{
 "cells": [
  {
   "cell_type": "markdown",
   "id": "117ab71d",
   "metadata": {},
   "source": [
    "# MULTI CLASSIFICATION ALGORITHM AND BUILDING MULTI LOGIT MODEL ON DATASET (GUJARAT CROP PRODUCTION)    "
   ]
  },
  {
   "cell_type": "markdown",
   "id": "da87cc0b",
   "metadata": {},
   "source": [
    "# INTRODUCTION\n",
    "\n",
    "Crop Production is influenced by multiple factors. Right from factors like temperature to rainfall to climate etc., crop production varies from place to place. In Gujarat, 54% of the land utilisation is accounted for by cultivation. The total gross cropped area in the state is 12.8 million hectares. Gujarat is the main producer of tobacco, cotton, and groundnuts in India, while the rest of the major crops produced are rice, wheat, jawar, bajra, maize, tur, and gram. The present study helps us in analyzing the crop production in Gujarat from year 1997 to 2012.\n",
    "\n",
    "\n",
    "# DATA DESCRIPTION:\n",
    "    \n",
    "The dataset includes details of different cities in Gujarat and their respective crop production based on multiple factors influencing it, wherein each factor plays an important role in the total production. Visualization techniques used on the dataset helps us to attain the desired conclusion on the most important factor as well as the total production in different years.\n",
    "\n",
    "The \"EXPLORATORY DATA ANALYSIS\" below is divided into 2 parts, viz-a-viz., Descriptive Analysis and Visualizations. Furthermore, \"Classification Algorithm\" is used to make inferences about the model and the dataset.\n",
    "\n",
    "\n",
    "# ATTRIBUTES:\n",
    "1. State: Dataset is based on the state of Gujarat\n",
    "2. City: Multiple cities of Gujarat\n",
    "3. Year: Year concerned with the production (1997-2012)\n",
    "4. Season (Categorical Data): Season of harvest: Kharif, Rabi, Summer and Whole Year\n",
    "5. Area (feature): Area of harvest (in '000 ha)\n",
    "6. avgTemp (feature): Average temperature (degree Celsius)\n",
    "7. Precipitation (feature)\n",
    "8. Rainfall (feature)\n",
    "9. Production\n",
    "\n",
    "\n",
    "# OBJECTIVE:\n",
    "\n",
    "1. The objective here is to illustrate Multi-Classification problem in the agricultural field (Gujarat Crop Production) by building a \"Multi-Logit\" Model.\n",
    "2. The dataset contains categorical variables, numerical variables and continuous variables, for which several plots and graphs have been visualized.\n",
    "3. Based on the insights of \"goodness of fit/accuracy measures\", we make the future predictions."
   ]
  },
  {
   "cell_type": "markdown",
   "id": "e56db7de",
   "metadata": {},
   "source": [
    "# EXPLORATORY DATA ANALYSIS (EDA)"
   ]
  },
  {
   "cell_type": "markdown",
   "id": "22b0e6dd",
   "metadata": {},
   "source": [
    "We start the analysis by importing the pre-requisite libraries and dataset"
   ]
  },
  {
   "cell_type": "code",
   "execution_count": 1,
   "id": "0025d354",
   "metadata": {},
   "outputs": [],
   "source": [
    "import pandas as pd\n",
    "import matplotlib.pyplot as plt\n",
    "import seaborn as sns"
   ]
  },
  {
   "cell_type": "code",
   "execution_count": 4,
   "id": "4d83c0c4",
   "metadata": {},
   "outputs": [
    {
     "data": {
      "text/html": [
       "<div>\n",
       "<style scoped>\n",
       "    .dataframe tbody tr th:only-of-type {\n",
       "        vertical-align: middle;\n",
       "    }\n",
       "\n",
       "    .dataframe tbody tr th {\n",
       "        vertical-align: top;\n",
       "    }\n",
       "\n",
       "    .dataframe thead th {\n",
       "        text-align: right;\n",
       "    }\n",
       "</style>\n",
       "<table border=\"1\" class=\"dataframe\">\n",
       "  <thead>\n",
       "    <tr style=\"text-align: right;\">\n",
       "      <th></th>\n",
       "      <th>State</th>\n",
       "      <th>City</th>\n",
       "      <th>Year</th>\n",
       "      <th>Season</th>\n",
       "      <th>Area</th>\n",
       "      <th>avgTemp</th>\n",
       "      <th>Precipitation</th>\n",
       "      <th>Rainfall</th>\n",
       "      <th>Production</th>\n",
       "    </tr>\n",
       "  </thead>\n",
       "  <tbody>\n",
       "    <tr>\n",
       "      <th>0</th>\n",
       "      <td>Gujarat</td>\n",
       "      <td>Ahmedabad</td>\n",
       "      <td>1997</td>\n",
       "      <td>Kharif</td>\n",
       "      <td>2900</td>\n",
       "      <td>31.2394</td>\n",
       "      <td>176.327</td>\n",
       "      <td>540.9</td>\n",
       "      <td>2200.0</td>\n",
       "    </tr>\n",
       "    <tr>\n",
       "      <th>1</th>\n",
       "      <td>Gujarat</td>\n",
       "      <td>Ahmedabad</td>\n",
       "      <td>1997</td>\n",
       "      <td>Kharif</td>\n",
       "      <td>41700</td>\n",
       "      <td>31.2394</td>\n",
       "      <td>176.327</td>\n",
       "      <td>540.9</td>\n",
       "      <td>43700.0</td>\n",
       "    </tr>\n",
       "    <tr>\n",
       "      <th>2</th>\n",
       "      <td>Gujarat</td>\n",
       "      <td>Ahmedabad</td>\n",
       "      <td>1997</td>\n",
       "      <td>Kharif</td>\n",
       "      <td>700</td>\n",
       "      <td>31.2394</td>\n",
       "      <td>176.327</td>\n",
       "      <td>540.9</td>\n",
       "      <td>700.0</td>\n",
       "    </tr>\n",
       "    <tr>\n",
       "      <th>3</th>\n",
       "      <td>Gujarat</td>\n",
       "      <td>Ahmedabad</td>\n",
       "      <td>1997</td>\n",
       "      <td>Kharif</td>\n",
       "      <td>500</td>\n",
       "      <td>31.2394</td>\n",
       "      <td>176.327</td>\n",
       "      <td>540.9</td>\n",
       "      <td>600.0</td>\n",
       "    </tr>\n",
       "    <tr>\n",
       "      <th>4</th>\n",
       "      <td>Gujarat</td>\n",
       "      <td>Ahmedabad</td>\n",
       "      <td>1997</td>\n",
       "      <td>Kharif</td>\n",
       "      <td>42500</td>\n",
       "      <td>31.2394</td>\n",
       "      <td>176.327</td>\n",
       "      <td>540.9</td>\n",
       "      <td>33500.0</td>\n",
       "    </tr>\n",
       "  </tbody>\n",
       "</table>\n",
       "</div>"
      ],
      "text/plain": [
       "     State       City  Year  Season   Area  avgTemp  Precipitation  Rainfall  \\\n",
       "0  Gujarat  Ahmedabad  1997  Kharif   2900  31.2394        176.327     540.9   \n",
       "1  Gujarat  Ahmedabad  1997  Kharif  41700  31.2394        176.327     540.9   \n",
       "2  Gujarat  Ahmedabad  1997  Kharif    700  31.2394        176.327     540.9   \n",
       "3  Gujarat  Ahmedabad  1997  Kharif    500  31.2394        176.327     540.9   \n",
       "4  Gujarat  Ahmedabad  1997  Kharif  42500  31.2394        176.327     540.9   \n",
       "\n",
       "   Production  \n",
       "0      2200.0  \n",
       "1     43700.0  \n",
       "2       700.0  \n",
       "3       600.0  \n",
       "4     33500.0  "
      ]
     },
     "execution_count": 4,
     "metadata": {},
     "output_type": "execute_result"
    }
   ],
   "source": [
    "df = pd.read_excel(\"guj_crop_prod.xlsx\")\n",
    "df.head()"
   ]
  },
  {
   "cell_type": "code",
   "execution_count": 28,
   "id": "dd004a18",
   "metadata": {},
   "outputs": [
    {
     "name": "stdout",
     "output_type": "stream",
     "text": [
      "(8436, 9)\n",
      "\n",
      "Index(['State', 'City', 'Year', 'Season', 'Area', 'avgTemp', 'Precipitation',\n",
      "       'Rainfall', 'Production'],\n",
      "      dtype='object')\n",
      "\n",
      "              Year           Area      avgTemp  Precipitation     Rainfall  \\\n",
      "count  8436.000000    8436.000000  8434.000000    8429.000000  8436.000000   \n",
      "mean   2005.159673   18367.001422    26.456331     518.041159   444.719386   \n",
      "std       4.586311   48911.276510     3.333164     430.227159   392.677592   \n",
      "min    1997.000000     100.000000    17.334000       0.000000     5.120000   \n",
      "25%    2001.000000     500.000000    23.211500      16.519000   120.320000   \n",
      "50%    2005.000000    2300.000000    27.523333     558.413000   410.300000   \n",
      "75%    2009.000000   11600.000000    29.254000     824.232000   673.700000   \n",
      "max    2012.000000  499100.000000    32.023600    2260.642000  1870.260000   \n",
      "\n",
      "         Production  \n",
      "count  8.367000e+03  \n",
      "mean   6.266184e+04  \n",
      "std    3.927533e+05  \n",
      "min    0.000000e+00  \n",
      "25%    6.000000e+02  \n",
      "50%    3.100000e+03  \n",
      "75%    2.120000e+04  \n",
      "max    1.175400e+07  \n",
      "\n",
      "<class 'pandas.core.frame.DataFrame'>\n",
      "RangeIndex: 8436 entries, 0 to 8435\n",
      "Data columns (total 9 columns):\n",
      " #   Column         Non-Null Count  Dtype  \n",
      "---  ------         --------------  -----  \n",
      " 0   State          8436 non-null   object \n",
      " 1   City           8436 non-null   object \n",
      " 2   Year           8436 non-null   int64  \n",
      " 3   Season         8436 non-null   object \n",
      " 4   Area           8436 non-null   int64  \n",
      " 5   avgTemp        8434 non-null   float64\n",
      " 6   Precipitation  8429 non-null   float64\n",
      " 7   Rainfall       8436 non-null   float64\n",
      " 8   Production     8367 non-null   float64\n",
      "dtypes: float64(4), int64(2), object(3)\n",
      "memory usage: 593.3+ KB\n",
      "None\n",
      "\n",
      "State             0\n",
      "City              0\n",
      "Year              0\n",
      "Season            0\n",
      "Area              0\n",
      "avgTemp           2\n",
      "Precipitation     7\n",
      "Rainfall          0\n",
      "Production       69\n",
      "dtype: int64\n",
      "\n",
      "['Kharif' 'Rabi' 'Summer' 'Whole Year']\n"
     ]
    }
   ],
   "source": [
    "print(df.shape) #gives the count of rows and columns\n",
    "print(\"\")\n",
    "print(df.columns) #gives column details\n",
    "print(\"\")\n",
    "print(df.describe()) #gives summary statistics of the data\n",
    "print(\"\")\n",
    "print(df.info()) #gives datatype of each variable\n",
    "print(\"\")\n",
    "print(df.isnull().sum()) #shows if there's any null value in the dataset\n",
    "print(\"\")\n",
    "print(df['Season'].unique()) #gives the unique values in categorical data, Season"
   ]
  },
  {
   "cell_type": "markdown",
   "id": "ffc17777",
   "metadata": {},
   "source": [
    "We see there are multiple null values in the dataset. So, to fill the null values, we check the box plot for every factor and fill the null values with the required imputation technique.\n",
    "\n",
    "\n",
    "# DATA CLEANING \n",
    "\n",
    "Central tendency measure such as mean, median, or mode is considered for imputation. The goal is to find out which is a better measure of the central tendency of data and use that value for replacing missing values appropriately. Plots such as box plots and distribution plots come very handily in deciding which techniques to use.\n",
    "Depending on the skewness of the curve, we replace the null values using the particular imputation technique."
   ]
  },
  {
   "cell_type": "code",
   "execution_count": 15,
   "id": "0e1f3a7e",
   "metadata": {},
   "outputs": [
    {
     "name": "stderr",
     "output_type": "stream",
     "text": [
      "C:\\Users\\hp\\anaconda3\\lib\\site-packages\\seaborn\\_decorators.py:36: FutureWarning: Pass the following variable as a keyword arg: x. From version 0.12, the only valid positional argument will be `data`, and passing other arguments without an explicit keyword will result in an error or misinterpretation.\n",
      "  warnings.warn(\n"
     ]
    },
    {
     "data": {
      "text/plain": [
       "Text(0.5, 1.0, 'Fig 1. Boxplot of Average Temperature for deciding the technique of imputation')"
      ]
     },
     "execution_count": 15,
     "metadata": {},
     "output_type": "execute_result"
    },
    {
     "data": {
      "image/png": "[encoded data removed]",
      "text/plain": [
       "<Figure size 432x288 with 1 Axes>"
      ]
     },
     "metadata": {
      "needs_background": "light"
     },
     "output_type": "display_data"
    }
   ],
   "source": [
    "sns.boxplot(df.avgTemp)\n",
    "plt.title(\"Fig 1. Boxplot of Average Temperature for deciding the technique of imputation\")"
   ]
  },
  {
   "cell_type": "code",
   "execution_count": 16,
   "id": "8412240a",
   "metadata": {},
   "outputs": [
    {
     "name": "stderr",
     "output_type": "stream",
     "text": [
      "C:\\Users\\hp\\anaconda3\\lib\\site-packages\\seaborn\\_decorators.py:36: FutureWarning: Pass the following variable as a keyword arg: x. From version 0.12, the only valid positional argument will be `data`, and passing other arguments without an explicit keyword will result in an error or misinterpretation.\n",
      "  warnings.warn(\n"
     ]
    },
    {
     "data": {
      "text/plain": [
       "Text(0.5, 1.0, 'Fig 2. Boxplot of Precipitation for deciding the technique of imputation')"
      ]
     },
     "execution_count": 16,
     "metadata": {},
     "output_type": "execute_result"
    },
    {
     "data": {
      "image/png": "[encoded data removed]",
      "text/plain": [
       "<Figure size 432x288 with 1 Axes>"
      ]
     },
     "metadata": {
      "needs_background": "light"
     },
     "output_type": "display_data"
    }
   ],
   "source": [
    "sns.boxplot(df.Precipitation)\n",
    "plt.title(\"Fig 2. Boxplot of Precipitation for deciding the technique of imputation\")"
   ]
  },
  {
   "cell_type": "code",
   "execution_count": 17,
   "id": "593f0022",
   "metadata": {},
   "outputs": [
    {
     "name": "stderr",
     "output_type": "stream",
     "text": [
      "C:\\Users\\hp\\anaconda3\\lib\\site-packages\\seaborn\\_decorators.py:36: FutureWarning: Pass the following variable as a keyword arg: x. From version 0.12, the only valid positional argument will be `data`, and passing other arguments without an explicit keyword will result in an error or misinterpretation.\n",
      "  warnings.warn(\n"
     ]
    },
    {
     "data": {
      "text/plain": [
       "Text(0.5, 1.0, 'Fig 3. Boxplot of Production for deciding the technique of imputation')"
      ]
     },
     "execution_count": 17,
     "metadata": {},
     "output_type": "execute_result"
    },
    {
     "data": {
      "image/png": "[encoded data removed]",
      "text/plain": [
       "<Figure size 432x288 with 1 Axes>"
      ]
     },
     "metadata": {
      "needs_background": "light"
     },
     "output_type": "display_data"
    }
   ],
   "source": [
    "sns.boxplot(df.Production)\n",
    "plt.title(\"Fig 3. Boxplot of Production for deciding the technique of imputation\")"
   ]
  },
  {
   "cell_type": "markdown",
   "id": "b1fd7573",
   "metadata": {},
   "source": [
    "The data is skewed in all the three boxplots. There are several or large numbers of data points that act as outliers, which will have a significant impact on the mean and hence, in such cases, it is not recommended to use the mean for replacing the missing values. Imputing missing data with median value can only be done with numerical data and imputing missing data with mode values can be done with numerical and categorical data.\n",
    "\n",
    "In the present context, all the three variables (temperature, precipitation and production) are numerical data. So, the null values are replced using imputation technique of \"median\"."
   ]
  },
  {
   "cell_type": "code",
   "execution_count": 19,
   "id": "87de826d",
   "metadata": {},
   "outputs": [
    {
     "name": "stderr",
     "output_type": "stream",
     "text": [
      "C:\\Users\\hp\\AppData\\Local\\Temp/ipykernel_7652/730676815.py:1: FutureWarning: Dropping of nuisance columns in DataFrame reductions (with 'numeric_only=None') is deprecated; in a future version this will raise TypeError.  Select only valid columns before calling the reduction.\n",
      "  df_new=df.fillna(df.median()) #filling the null values using median\n"
     ]
    },
    {
     "data": {
      "text/plain": [
       "State            0\n",
       "City             0\n",
       "Year             0\n",
       "Season           0\n",
       "Area             0\n",
       "avgTemp          0\n",
       "Precipitation    0\n",
       "Rainfall         0\n",
       "Production       0\n",
       "dtype: int64"
      ]
     },
     "execution_count": 19,
     "metadata": {},
     "output_type": "execute_result"
    }
   ],
   "source": [
    "df_new=df.fillna(df.median()) #filling the null values using median\n",
    "df_new.isnull().sum() #rechecking for null values"
   ]
  },
  {
   "cell_type": "markdown",
   "id": "3eea0fd7",
   "metadata": {},
   "source": [
    "It can be seen that using the imputation technique of \"median\", all the null values have been filled and thus, there are no null values anymore. Hence, the data is pre-processed and cleaned before using it for the further analysis.\n",
    "\n",
    "\n",
    "# VISUALIZATIONS\n",
    "\n",
    "The next step is to visualize the dataset using several plots and charts."
   ]
  },
  {
   "cell_type": "code",
   "execution_count": 20,
   "id": "dc12ffc2",
   "metadata": {},
   "outputs": [
    {
     "name": "stderr",
     "output_type": "stream",
     "text": [
      "C:\\Users\\hp\\anaconda3\\lib\\site-packages\\seaborn\\distributions.py:2619: FutureWarning: `distplot` is a deprecated function and will be removed in a future version. Please adapt your code to use either `displot` (a figure-level function with similar flexibility) or `histplot` (an axes-level function for histograms).\n",
      "  warnings.warn(msg, FutureWarning)\n"
     ]
    },
    {
     "data": {
      "text/plain": [
       "Text(0, 0.5, 'Density Distribution')"
      ]
     },
     "execution_count": 20,
     "metadata": {},
     "output_type": "execute_result"
    },
    {
     "data": {
      "image/png": "[encoded data removed]",
      "text/plain": [
       "<Figure size 432x288 with 1 Axes>"
      ]
     },
     "metadata": {
      "needs_background": "light"
     },
     "output_type": "display_data"
    }
   ],
   "source": [
    "# DistributionPlot- used for both the histogram and densities in the same plot \n",
    "\n",
    "sns.distplot(df_new.Production) #distribution plot of production\n",
    "plt.title(\"Distribution of Production\")\n",
    "plt.ylabel(\"Density Distribution\")"
   ]
  },
  {
   "cell_type": "markdown",
   "id": "7a56cb25",
   "metadata": {},
   "source": [
    "The distribution plot of Production gives us a skewed (right-skewed) distribution of it's density frequency."
   ]
  },
  {
   "cell_type": "code",
   "execution_count": 21,
   "id": "b0f0f907",
   "metadata": {},
   "outputs": [
    {
     "data": {
      "text/plain": [
       "array([[<AxesSubplot:title={'center':'Year'}>,\n",
       "        <AxesSubplot:title={'center':'Area'}>],\n",
       "       [<AxesSubplot:title={'center':'avgTemp'}>,\n",
       "        <AxesSubplot:title={'center':'Precipitation'}>],\n",
       "       [<AxesSubplot:title={'center':'Rainfall'}>,\n",
       "        <AxesSubplot:title={'center':'Production'}>]], dtype=object)"
      ]
     },
     "execution_count": 21,
     "metadata": {},
     "output_type": "execute_result"
    },
    {
     "data": {
      "image/png": "[encoded data removed]",
      "text/plain": [
       "<Figure size 720x720 with 6 Axes>"
      ]
     },
     "metadata": {
      "needs_background": "light"
     },
     "output_type": "display_data"
    }
   ],
   "source": [
    "# Histogram- used to plot numerical data and check for its normality in the form of symmetricity.\n",
    "\n",
    "df_new.hist(figsize=(10,10))"
   ]
  },
  {
   "cell_type": "markdown",
   "id": "e7de4729",
   "metadata": {},
   "source": [
    "The histogram above says that the numerical data viz-a-viz., Area, Temperature, Precipitation, Rainfall and Production are all skew-symmetric indicating they are not normally distributed."
   ]
  },
  {
   "cell_type": "code",
   "execution_count": 24,
   "id": "f1f96566",
   "metadata": {},
   "outputs": [
    {
     "data": {
      "image/png": "[encoded data removed]",
      "text/plain": [
       "<Figure size 432x288 with 1 Axes>"
      ]
     },
     "metadata": {
      "needs_background": "light"
     },
     "output_type": "display_data"
    }
   ],
   "source": [
    "# Countplot- gives the count of each category in a categorical variable.\n",
    "\n",
    "sns.countplot(x=df_new['Year'])\n",
    "plt.ylabel(\"Frequency of crop production in different Years\")\n",
    "plt.title(\"CountPlot of Years\")\n",
    "plt.show()"
   ]
  },
  {
   "cell_type": "markdown",
   "id": "db0518ea",
   "metadata": {},
   "source": [
    "The maximum crop production of different crops can be seen in the year 2010, followed by year 2011 and then 2012."
   ]
  },
  {
   "cell_type": "code",
   "execution_count": 25,
   "id": "8f41412e",
   "metadata": {},
   "outputs": [
    {
     "data": {
      "text/plain": [
       "Text(0, 0.5, 'Seasons')"
      ]
     },
     "execution_count": 25,
     "metadata": {},
     "output_type": "execute_result"
    },
    {
     "data": {
      "image/png": "[encoded data removed]",
      "text/plain": [
       "<Figure size 432x288 with 1 Axes>"
      ]
     },
     "metadata": {},
     "output_type": "display_data"
    }
   ],
   "source": [
    "# PieChart- shows the distribution of a categorical variable in \"percentage\".\n",
    "\n",
    "a=df_new.groupby('Season').size().plot(kind='pie', autopct='%.2f')\n",
    "plt.title(\"Pie Chart\")\n",
    "a.set_ylabel(\"Seasons\")"
   ]
  },
  {
   "cell_type": "markdown",
   "id": "bf934ee2",
   "metadata": {},
   "source": [
    "For maximum number of times, crop production takes place in Kharif season (50.36%), followed by Whole Year crop production (19.63%), Rabi crop (19.49%) and lastly, Summer crop production (10.53%)."
   ]
  },
  {
   "cell_type": "code",
   "execution_count": 26,
   "id": "c0d3bebe",
   "metadata": {},
   "outputs": [
    {
     "data": {
      "text/html": [
       "<div>\n",
       "<style scoped>\n",
       "    .dataframe tbody tr th:only-of-type {\n",
       "        vertical-align: middle;\n",
       "    }\n",
       "\n",
       "    .dataframe tbody tr th {\n",
       "        vertical-align: top;\n",
       "    }\n",
       "\n",
       "    .dataframe thead th {\n",
       "        text-align: right;\n",
       "    }\n",
       "</style>\n",
       "<table border=\"1\" class=\"dataframe\">\n",
       "  <thead>\n",
       "    <tr style=\"text-align: right;\">\n",
       "      <th></th>\n",
       "      <th>Year</th>\n",
       "      <th>Area</th>\n",
       "      <th>avgTemp</th>\n",
       "      <th>Precipitation</th>\n",
       "      <th>Rainfall</th>\n",
       "      <th>Production</th>\n",
       "    </tr>\n",
       "  </thead>\n",
       "  <tbody>\n",
       "    <tr>\n",
       "      <th>Year</th>\n",
       "      <td>1.000000</td>\n",
       "      <td>-0.042335</td>\n",
       "      <td>-0.046543</td>\n",
       "      <td>-0.050821</td>\n",
       "      <td>-0.002312</td>\n",
       "      <td>-0.004591</td>\n",
       "    </tr>\n",
       "    <tr>\n",
       "      <th>Area</th>\n",
       "      <td>-0.042335</td>\n",
       "      <td>1.000000</td>\n",
       "      <td>0.056437</td>\n",
       "      <td>0.039003</td>\n",
       "      <td>0.018687</td>\n",
       "      <td>0.291091</td>\n",
       "    </tr>\n",
       "    <tr>\n",
       "      <th>avgTemp</th>\n",
       "      <td>-0.046543</td>\n",
       "      <td>0.056437</td>\n",
       "      <td>1.000000</td>\n",
       "      <td>0.254093</td>\n",
       "      <td>0.276307</td>\n",
       "      <td>-0.068329</td>\n",
       "    </tr>\n",
       "    <tr>\n",
       "      <th>Precipitation</th>\n",
       "      <td>-0.050821</td>\n",
       "      <td>0.039003</td>\n",
       "      <td>0.254093</td>\n",
       "      <td>1.000000</td>\n",
       "      <td>0.651534</td>\n",
       "      <td>0.097229</td>\n",
       "    </tr>\n",
       "    <tr>\n",
       "      <th>Rainfall</th>\n",
       "      <td>-0.002312</td>\n",
       "      <td>0.018687</td>\n",
       "      <td>0.276307</td>\n",
       "      <td>0.651534</td>\n",
       "      <td>1.000000</td>\n",
       "      <td>-0.010502</td>\n",
       "    </tr>\n",
       "    <tr>\n",
       "      <th>Production</th>\n",
       "      <td>-0.004591</td>\n",
       "      <td>0.291091</td>\n",
       "      <td>-0.068329</td>\n",
       "      <td>0.097229</td>\n",
       "      <td>-0.010502</td>\n",
       "      <td>1.000000</td>\n",
       "    </tr>\n",
       "  </tbody>\n",
       "</table>\n",
       "</div>"
      ],
      "text/plain": [
       "                   Year      Area   avgTemp  Precipitation  Rainfall  \\\n",
       "Year           1.000000 -0.042335 -0.046543      -0.050821 -0.002312   \n",
       "Area          -0.042335  1.000000  0.056437       0.039003  0.018687   \n",
       "avgTemp       -0.046543  0.056437  1.000000       0.254093  0.276307   \n",
       "Precipitation -0.050821  0.039003  0.254093       1.000000  0.651534   \n",
       "Rainfall      -0.002312  0.018687  0.276307       0.651534  1.000000   \n",
       "Production    -0.004591  0.291091 -0.068329       0.097229 -0.010502   \n",
       "\n",
       "               Production  \n",
       "Year            -0.004591  \n",
       "Area             0.291091  \n",
       "avgTemp         -0.068329  \n",
       "Precipitation    0.097229  \n",
       "Rainfall        -0.010502  \n",
       "Production       1.000000  "
      ]
     },
     "execution_count": 26,
     "metadata": {},
     "output_type": "execute_result"
    }
   ],
   "source": [
    "# Correlation Matrix- shows the relation between variables in a matrix form.\n",
    "df_new.corr()"
   ]
  },
  {
   "cell_type": "markdown",
   "id": "93e98161",
   "metadata": {},
   "source": [
    "The highest correlation is observed in Rainfall and Precipitation (65%)"
   ]
  },
  {
   "cell_type": "code",
   "execution_count": 29,
   "id": "95b9382f",
   "metadata": {},
   "outputs": [
    {
     "data": {
      "text/plain": [
       "Text(0.5, 1.0, 'Heatmap')"
      ]
     },
     "execution_count": 29,
     "metadata": {},
     "output_type": "execute_result"
    },
    {
     "data": {
      "image/png": "[encoded data removed]",
      "text/plain": [
       "<Figure size 432x288 with 2 Axes>"
      ]
     },
     "metadata": {
      "needs_background": "light"
     },
     "output_type": "display_data"
    }
   ],
   "source": [
    "# Heatmap- represents values by colors where square shows the correlation between the variables on each axis\n",
    "\n",
    "hm=df_new.corr()\n",
    "sns.heatmap(hm,annot=True)\n",
    "plt.title(\"Heatmap\")"
   ]
  },
  {
   "cell_type": "markdown",
   "id": "fd428e55",
   "metadata": {},
   "source": [
    "# CLASSIFICATION ALGORITHM ANALYSIS\n",
    "\n",
    "Next, the analysis of classification algorithm is carried on to make further analysis on the Logistic Regression Model.\n",
    "\n",
    "Before proceeding, it is clearly observe that in the column 'Season' there are four categories and hence, we convert them into numerics by assigning different labels to them."
   ]
  },
  {
   "cell_type": "code",
   "execution_count": 32,
   "id": "eacfee7f",
   "metadata": {},
   "outputs": [
    {
     "data": {
      "text/html": [
       "<div>\n",
       "<style scoped>\n",
       "    .dataframe tbody tr th:only-of-type {\n",
       "        vertical-align: middle;\n",
       "    }\n",
       "\n",
       "    .dataframe tbody tr th {\n",
       "        vertical-align: top;\n",
       "    }\n",
       "\n",
       "    .dataframe thead th {\n",
       "        text-align: right;\n",
       "    }\n",
       "</style>\n",
       "<table border=\"1\" class=\"dataframe\">\n",
       "  <thead>\n",
       "    <tr style=\"text-align: right;\">\n",
       "      <th></th>\n",
       "      <th>State</th>\n",
       "      <th>City</th>\n",
       "      <th>Year</th>\n",
       "      <th>Season</th>\n",
       "      <th>Area</th>\n",
       "      <th>avgTemp</th>\n",
       "      <th>Precipitation</th>\n",
       "      <th>Rainfall</th>\n",
       "      <th>Production</th>\n",
       "    </tr>\n",
       "  </thead>\n",
       "  <tbody>\n",
       "    <tr>\n",
       "      <th>0</th>\n",
       "      <td>Gujarat</td>\n",
       "      <td>Ahmedabad</td>\n",
       "      <td>1997</td>\n",
       "      <td>0</td>\n",
       "      <td>2900</td>\n",
       "      <td>31.2394</td>\n",
       "      <td>176.327</td>\n",
       "      <td>540.9</td>\n",
       "      <td>2200.0</td>\n",
       "    </tr>\n",
       "    <tr>\n",
       "      <th>1</th>\n",
       "      <td>Gujarat</td>\n",
       "      <td>Ahmedabad</td>\n",
       "      <td>1997</td>\n",
       "      <td>0</td>\n",
       "      <td>41700</td>\n",
       "      <td>31.2394</td>\n",
       "      <td>176.327</td>\n",
       "      <td>540.9</td>\n",
       "      <td>43700.0</td>\n",
       "    </tr>\n",
       "    <tr>\n",
       "      <th>2</th>\n",
       "      <td>Gujarat</td>\n",
       "      <td>Ahmedabad</td>\n",
       "      <td>1997</td>\n",
       "      <td>0</td>\n",
       "      <td>700</td>\n",
       "      <td>31.2394</td>\n",
       "      <td>176.327</td>\n",
       "      <td>540.9</td>\n",
       "      <td>700.0</td>\n",
       "    </tr>\n",
       "    <tr>\n",
       "      <th>3</th>\n",
       "      <td>Gujarat</td>\n",
       "      <td>Ahmedabad</td>\n",
       "      <td>1997</td>\n",
       "      <td>0</td>\n",
       "      <td>500</td>\n",
       "      <td>31.2394</td>\n",
       "      <td>176.327</td>\n",
       "      <td>540.9</td>\n",
       "      <td>600.0</td>\n",
       "    </tr>\n",
       "    <tr>\n",
       "      <th>4</th>\n",
       "      <td>Gujarat</td>\n",
       "      <td>Ahmedabad</td>\n",
       "      <td>1997</td>\n",
       "      <td>0</td>\n",
       "      <td>42500</td>\n",
       "      <td>31.2394</td>\n",
       "      <td>176.327</td>\n",
       "      <td>540.9</td>\n",
       "      <td>33500.0</td>\n",
       "    </tr>\n",
       "  </tbody>\n",
       "</table>\n",
       "</div>"
      ],
      "text/plain": [
       "     State       City  Year  Season   Area  avgTemp  Precipitation  Rainfall  \\\n",
       "0  Gujarat  Ahmedabad  1997       0   2900  31.2394        176.327     540.9   \n",
       "1  Gujarat  Ahmedabad  1997       0  41700  31.2394        176.327     540.9   \n",
       "2  Gujarat  Ahmedabad  1997       0    700  31.2394        176.327     540.9   \n",
       "3  Gujarat  Ahmedabad  1997       0    500  31.2394        176.327     540.9   \n",
       "4  Gujarat  Ahmedabad  1997       0  42500  31.2394        176.327     540.9   \n",
       "\n",
       "   Production  \n",
       "0      2200.0  \n",
       "1     43700.0  \n",
       "2       700.0  \n",
       "3       600.0  \n",
       "4     33500.0  "
      ]
     },
     "execution_count": 32,
     "metadata": {},
     "output_type": "execute_result"
    }
   ],
   "source": [
    "from sklearn import preprocessing\n",
    "  \n",
    "# label_encoder object knows how to understand word labels.\n",
    "label_encoder = preprocessing.LabelEncoder()\n",
    "  \n",
    "# Encode labels in column 'Season'.\n",
    "df_new['Season']= label_encoder.fit_transform(df_new['Season'])\n",
    "df_new['Season'].unique()\n",
    "df_new.head()"
   ]
  },
  {
   "cell_type": "markdown",
   "id": "ba79394b",
   "metadata": {},
   "source": [
    "Label Encoding gives us the variable array, where 'Kharif'=0, 'Rabi'=1, 'Summer'=2 and 'Whole Year'=3."
   ]
  },
  {
   "cell_type": "code",
   "execution_count": 34,
   "id": "6c80d88e",
   "metadata": {},
   "outputs": [
    {
     "data": {
      "text/plain": [
       "0    4248\n",
       "3    1656\n",
       "1    1644\n",
       "2     888\n",
       "Name: Season, dtype: int64"
      ]
     },
     "execution_count": 34,
     "metadata": {},
     "output_type": "execute_result"
    }
   ],
   "source": [
    "df_new['Season'].value_counts() #gives us count of each category"
   ]
  },
  {
   "cell_type": "code",
   "execution_count": 35,
   "id": "ec63ac17",
   "metadata": {},
   "outputs": [
    {
     "name": "stdout",
     "output_type": "stream",
     "text": [
      "The percentage of Kharif Production is  50.355618776671406\n",
      "The percentage of Rabi Production is  19.487908961593174\n",
      "The percentage of Summer Production is  10.526315789473683\n",
      "The percentage of Whole Year Production is  19.630156472261735\n"
     ]
    }
   ],
   "source": [
    "k=len(df_new[df_new['Season']==0]) #count of kharif\n",
    "r=len(df_new[df_new['Season']==1]) #count of rabi\n",
    "s=len(df_new[df_new['Season']==2]) #count of summer\n",
    "wy=len(df_new[df_new['Season']==3]) #count of whole year\n",
    "pct_of_k=k/(k+r+s+wy)\n",
    "print(\"The percentage of Kharif Production is \",pct_of_k*100)\n",
    "pct_of_r=r/(k+r+s+wy)\n",
    "print(\"The percentage of Rabi Production is \",pct_of_r*100)\n",
    "pct_of_s=s/(k+r+s+wy)\n",
    "print(\"The percentage of Summer Production is \",pct_of_s*100)\n",
    "pct_of_wy=wy/(k+r+s+wy)\n",
    "print(\"The percentage of Whole Year Production is \",pct_of_wy*100)"
   ]
  },
  {
   "cell_type": "markdown",
   "id": "9a5b8d9e",
   "metadata": {},
   "source": [
    "It can be seen that there's an imbalanced distribution in all the four categories of season. The same is also seen above in the countplot and hence, before proceeding with the further analysis, we apply SMOTE to balance these categories, SMOTE- \"SYNTHETIC MINORITY OVERSAMPLING TECHNIQUE (SMOTE)\" where we synthesize or duplicate the observations from Minority class."
   ]
  },
  {
   "cell_type": "code",
   "execution_count": 36,
   "id": "24a7d392",
   "metadata": {},
   "outputs": [],
   "source": [
    "#deleting unnecessary columns\n",
    "\n",
    "del df_new['State']\n",
    "del df_new['City']\n",
    "del df_new['Year']\n",
    "del df_new['Production']\n",
    "\n",
    "#dividing the data into X and y\n",
    "\n",
    "X = df_new.loc[:, df_new.columns != 'Season']\n",
    "y = df_new.loc[:, df_new.columns == 'Season']"
   ]
  },
  {
   "cell_type": "code",
   "execution_count": 39,
   "id": "9e39e9c0",
   "metadata": {},
   "outputs": [
    {
     "name": "stdout",
     "output_type": "stream",
     "text": [
      "Length of oversampled data is  13588\n",
      "Number of Kharif in oversampled data is 3397\n",
      "Number of Rabi in oversampled data is  3397\n",
      "Number of Summer in oversampled data is  3397\n",
      "Number of Whole Year in oversampled data is  3397\n",
      "Proportion of Kharif in oversampled data is  0.25\n",
      "Proportion of Rabi in oversampled data is  0.25\n",
      "Proportion of Summer in oversampled data is  0.25\n",
      "Proportion of Whole Year in oversampled data is  0.25\n"
     ]
    }
   ],
   "source": [
    "# SMOTE\n",
    "\n",
    "from imblearn.over_sampling import SMOTE\n",
    "from sklearn.model_selection import train_test_split\n",
    "os = SMOTE(random_state=63)\n",
    "X_train, X_test, y_train, y_test = train_test_split(X, y, test_size=0.2, random_state=63)\n",
    "columns = X_train.columns\n",
    "os_df_new_X,os_df_new_y=os.fit_resample(X_train, y_train)\n",
    "os_df_new_X = pd.DataFrame(data=os_df_new_X,columns=columns )\n",
    "os_df_new_y= pd.DataFrame(data=os_df_new_y,columns=['Season'])\n",
    "\n",
    "# we can Check the numbers of our data\n",
    "\n",
    "print(\"Length of oversampled data is \",len(os_df_new_X))\n",
    "print(\"Number of Kharif in oversampled data is\",len(os_df_new_y[os_df_new_y['Season']==0]))\n",
    "print(\"Number of Rabi in oversampled data is \",len(os_df_new_y[os_df_new_y['Season']==1]))\n",
    "print(\"Number of Summer in oversampled data is \",len(os_df_new_y[os_df_new_y['Season']==2]))\n",
    "print(\"Number of Whole Year in oversampled data is \",len(os_df_new_y[os_df_new_y['Season']==3]))\n",
    "print(\"Proportion of Kharif in oversampled data is \",len(os_df_new_y[os_df_new_y['Season']==0])/len(os_df_new_X))\n",
    "print(\"Proportion of Rabi in oversampled data is \",len(os_df_new_y[os_df_new_y['Season']==1])/len(os_df_new_X))\n",
    "print(\"Proportion of Summer in oversampled data is \",len(os_df_new_y[os_df_new_y['Season']==2])/len(os_df_new_X))\n",
    "print(\"Proportion of Whole Year in oversampled data is \",len(os_df_new_y[os_df_new_y['Season']==3])/len(os_df_new_X))"
   ]
  },
  {
   "cell_type": "markdown",
   "id": "a36b1254",
   "metadata": {},
   "source": [
    "SMOTE helped us to balance the classification of Season. The proportion of all 4 categories is 0.25 each and the number of variables in each category is 3397."
   ]
  },
  {
   "cell_type": "markdown",
   "id": "6fddb9d5",
   "metadata": {},
   "source": [
    "Next thing is to build a \"Logistic Regression Model\". This is done usking sklearn library."
   ]
  },
  {
   "cell_type": "code",
   "execution_count": 40,
   "id": "143b27f2",
   "metadata": {},
   "outputs": [
    {
     "name": "stderr",
     "output_type": "stream",
     "text": [
      "C:\\Users\\hp\\anaconda3\\lib\\site-packages\\sklearn\\utils\\validation.py:1111: DataConversionWarning: A column-vector y was passed when a 1d array was expected. Please change the shape of y to (n_samples, ), for example using ravel().\n",
      "  y = column_or_1d(y, warn=True)\n",
      "C:\\Users\\hp\\anaconda3\\lib\\site-packages\\sklearn\\linear_model\\_logistic.py:444: ConvergenceWarning: lbfgs failed to converge (status=1):\n",
      "STOP: TOTAL NO. of ITERATIONS REACHED LIMIT.\n",
      "\n",
      "Increase the number of iterations (max_iter) or scale the data as shown in:\n",
      "    https://scikit-learn.org/stable/modules/preprocessing.html\n",
      "Please also refer to the documentation for alternative solver options:\n",
      "    https://scikit-learn.org/stable/modules/linear_model.html#logistic-regression\n",
      "  n_iter_i = _check_optimize_result(\n"
     ]
    },
    {
     "data": {
      "text/html": [
       "<style>#sk-container-id-1 {color: black;background-color: white;}#sk-container-id-1 pre{padding: 0;}#sk-container-id-1 div.sk-toggleable {background-color: white;}#sk-container-id-1 label.sk-toggleable__label {cursor: pointer;display: block;width: 100%;margin-bottom: 0;padding: 0.3em;box-sizing: border-box;text-align: center;}#sk-container-id-1 label.sk-toggleable__label-arrow:before {content: \"▸\";float: left;margin-right: 0.25em;color: #696969;}#sk-container-id-1 label.sk-toggleable__label-arrow:hover:before {color: black;}#sk-container-id-1 div.sk-estimator:hover label.sk-toggleable__label-arrow:before {color: black;}#sk-container-id-1 div.sk-toggleable__content {max-height: 0;max-width: 0;overflow: hidden;text-align: left;background-color: #f0f8ff;}#sk-container-id-1 div.sk-toggleable__content pre {margin: 0.2em;color: black;border-radius: 0.25em;background-color: #f0f8ff;}#sk-container-id-1 input.sk-toggleable__control:checked~div.sk-toggleable__content {max-height: 200px;max-width: 100%;overflow: auto;}#sk-container-id-1 input.sk-toggleable__control:checked~label.sk-toggleable__label-arrow:before {content: \"▾\";}#sk-container-id-1 div.sk-estimator input.sk-toggleable__control:checked~label.sk-toggleable__label {background-color: #d4ebff;}#sk-container-id-1 div.sk-label input.sk-toggleable__control:checked~label.sk-toggleable__label {background-color: #d4ebff;}#sk-container-id-1 input.sk-hidden--visually {border: 0;clip: rect(1px 1px 1px 1px);clip: rect(1px, 1px, 1px, 1px);height: 1px;margin: -1px;overflow: hidden;padding: 0;position: absolute;width: 1px;}#sk-container-id-1 div.sk-estimator {font-family: monospace;background-color: #f0f8ff;border: 1px dotted black;border-radius: 0.25em;box-sizing: border-box;margin-bottom: 0.5em;}#sk-container-id-1 div.sk-estimator:hover {background-color: #d4ebff;}#sk-container-id-1 div.sk-parallel-item::after {content: \"\";width: 100%;border-bottom: 1px solid gray;flex-grow: 1;}#sk-container-id-1 div.sk-label:hover label.sk-toggleable__label {background-color: #d4ebff;}#sk-container-id-1 div.sk-serial::before {content: \"\";position: absolute;border-left: 1px solid gray;box-sizing: border-box;top: 0;bottom: 0;left: 50%;z-index: 0;}#sk-container-id-1 div.sk-serial {display: flex;flex-direction: column;align-items: center;background-color: white;padding-right: 0.2em;padding-left: 0.2em;position: relative;}#sk-container-id-1 div.sk-item {position: relative;z-index: 1;}#sk-container-id-1 div.sk-parallel {display: flex;align-items: stretch;justify-content: center;background-color: white;position: relative;}#sk-container-id-1 div.sk-item::before, #sk-container-id-1 div.sk-parallel-item::before {content: \"\";position: absolute;border-left: 1px solid gray;box-sizing: border-box;top: 0;bottom: 0;left: 50%;z-index: -1;}#sk-container-id-1 div.sk-parallel-item {display: flex;flex-direction: column;z-index: 1;position: relative;background-color: white;}#sk-container-id-1 div.sk-parallel-item:first-child::after {align-self: flex-end;width: 50%;}#sk-container-id-1 div.sk-parallel-item:last-child::after {align-self: flex-start;width: 50%;}#sk-container-id-1 div.sk-parallel-item:only-child::after {width: 0;}#sk-container-id-1 div.sk-dashed-wrapped {border: 1px dashed gray;margin: 0 0.4em 0.5em 0.4em;box-sizing: border-box;padding-bottom: 0.4em;background-color: white;}#sk-container-id-1 div.sk-label label {font-family: monospace;font-weight: bold;display: inline-block;line-height: 1.2em;}#sk-container-id-1 div.sk-label-container {text-align: center;}#sk-container-id-1 div.sk-container {/* jupyter's `normalize.less` sets `[hidden] { display: none; }` but bootstrap.min.css set `[hidden] { display: none !important; }` so we also need the `!important` here to be able to override the default hidden behavior on the sphinx rendered scikit-learn.org. See: https://github.com/scikit-learn/scikit-learn/issues/21755 */display: inline-block !important;position: relative;}#sk-container-id-1 div.sk-text-repr-fallback {display: none;}</style><div id=\"sk-container-id-1\" class=\"sk-top-container\"><div class=\"sk-text-repr-fallback\"><pre>LogisticRegression(multi_class=&#x27;multinomial&#x27;)</pre><b>In a Jupyter environment, please rerun this cell to show the HTML representation or trust the notebook. <br />On GitHub, the HTML representation is unable to render, please try loading this page with nbviewer.org.</b></div><div class=\"sk-container\" hidden><div class=\"sk-item\"><div class=\"sk-estimator sk-toggleable\"><input class=\"sk-toggleable__control sk-hidden--visually\" id=\"sk-estimator-id-1\" type=\"checkbox\" checked><label for=\"sk-estimator-id-1\" class=\"sk-toggleable__label sk-toggleable__label-arrow\">LogisticRegression</label><div class=\"sk-toggleable__content\"><pre>LogisticRegression(multi_class=&#x27;multinomial&#x27;)</pre></div></div></div></div></div>"
      ],
      "text/plain": [
       "LogisticRegression(multi_class='multinomial')"
      ]
     },
     "execution_count": 40,
     "metadata": {},
     "output_type": "execute_result"
    }
   ],
   "source": [
    "from sklearn.linear_model import LogisticRegression\n",
    "from sklearn import metrics\n",
    "X_train, X_test, y_train, y_test = train_test_split(X, y, test_size=0.2, random_state=0)\n",
    "logreg = LogisticRegression(multi_class=\"multinomial\")\n",
    "logreg.fit(X_train, y_train)"
   ]
  },
  {
   "cell_type": "markdown",
   "id": "4512f401",
   "metadata": {},
   "source": [
    "Lastly, we check the accuracy of the model using \"goodness of fit measures\"."
   ]
  },
  {
   "cell_type": "code",
   "execution_count": 41,
   "id": "07253a93",
   "metadata": {},
   "outputs": [
    {
     "name": "stdout",
     "output_type": "stream",
     "text": [
      "Accuracy of logistic regression classifier on test set: 0.78\n"
     ]
    }
   ],
   "source": [
    "#CHECKING THE ACCURACY OF FITTED MODEL\n",
    "\n",
    "y_pred = logreg.predict(X_test)\n",
    "print('Accuracy of logistic regression classifier on test set: {:.2f}'.format(logreg.score(X_test, y_test)))"
   ]
  },
  {
   "cell_type": "markdown",
   "id": "97e79361",
   "metadata": {},
   "source": [
    "# Confusion Matrix"
   ]
  },
  {
   "cell_type": "code",
   "execution_count": 42,
   "id": "d229d21f",
   "metadata": {},
   "outputs": [
    {
     "name": "stdout",
     "output_type": "stream",
     "text": [
      "[[817   0   7  33]\n",
      " [ 14 101 167  27]\n",
      " [  5   6 162   0]\n",
      " [107   2   2 238]]\n"
     ]
    }
   ],
   "source": [
    "from sklearn.metrics import confusion_matrix\n",
    "confusion_matrix = confusion_matrix(y_test, y_pred)\n",
    "print(confusion_matrix)"
   ]
  },
  {
   "cell_type": "markdown",
   "id": "19bf149c",
   "metadata": {},
   "source": [
    "The confusion matrix explains sum of all diagonal elements as correct predicitons and sum of all non-diagonal elements as wrong predicitons. It's clearly seen that the sum of wrong predictions are extremely few in number as compared to the sum of correct predictions.\n",
    "\n",
    "## Classification Report"
   ]
  },
  {
   "cell_type": "code",
   "execution_count": 43,
   "id": "70a64ed6",
   "metadata": {},
   "outputs": [
    {
     "name": "stdout",
     "output_type": "stream",
     "text": [
      "              precision    recall  f1-score   support\n",
      "\n",
      "           0       0.87      0.95      0.91       857\n",
      "           1       0.93      0.33      0.48       309\n",
      "           2       0.48      0.94      0.63       173\n",
      "           3       0.80      0.68      0.74       349\n",
      "\n",
      "    accuracy                           0.78      1688\n",
      "   macro avg       0.77      0.72      0.69      1688\n",
      "weighted avg       0.82      0.78      0.77      1688\n",
      "\n"
     ]
    }
   ],
   "source": [
    "from sklearn.metrics import classification_report\n",
    "print(classification_report(y_test, y_pred))"
   ]
  },
  {
   "cell_type": "markdown",
   "id": "11837c31",
   "metadata": {},
   "source": [
    "## Interpretation:\n",
    "- The above report prints precision, recall, F-beta score and support.\n",
    "- Precision (ability of a classifier not to label an obervation as positive if its negative) is the ratio of TP to the sum of TP and FP (1 is best and O is worst)\n",
    "- Recall (ability of a classifier to lable all postive observations) is the ratio of TP to the sum of TP and FN (1 is best and O is worst)\n",
    "- The F-measure is calculated as the harmonic mean of precision and recall, giving each the same weighting.\n",
    "- It allows a model to be evaluated taking both the precision and recall into account using a single score.\n",
    "- Helpful when describing the performance of the model and in comparing models.\n",
    "- The Fbeta-measure is a generalization of the F-measure that adds a configuration parameter called beta\n",
    "- Here Macro average is the AM of scores of two classes.\n",
    "- Since it is balanced classification both average scores will be same.\n",
    "\n",
    "# Conclusion\n",
    "\n",
    "1. The data contains 4 different categories of crop namely: Kharif, Rabi, Summer and Whole Year along with the features which affect their production\n",
    "2. We needed to fit a multi-logit model for classification and hence recommendation to farmers to which crop should be sown.\n",
    "3. The categorical distribution was an imbalanced data and hence, we used SMOTE to balance the 4 categories.\n",
    "4. **The fitted model showed the accuracy of 78% which is moderately good sign of model.**\n",
    "5. This was not a binary classification, hence ROC couldn't be used to assess the accuracy the model.\n",
    "6. Classification report and Confusion matrix have been explained as the \"goodness of fit\" measures."
   ]
  }
 ],
 "metadata": {
  "kernelspec": {
   "display_name": "Python 3 (ipykernel)",
   "language": "python",
   "name": "python3"
  },
  "language_info": {
   "codemirror_mode": {
    "name": "ipython",
    "version": 3
   },
   "file_extension": ".py",
   "mimetype": "text/x-python",
   "name": "python",
   "nbconvert_exporter": "python",
   "pygments_lexer": "ipython3",
   "version": "3.9.7"
  }
 },
 "nbformat": 4,
 "nbformat_minor": 5
}
